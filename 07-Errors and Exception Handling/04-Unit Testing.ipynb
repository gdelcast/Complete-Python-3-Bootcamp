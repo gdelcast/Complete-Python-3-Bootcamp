{
 "cells": [
  {
   "cell_type": "markdown",
   "source": [
    "___\n",
    "\n",
    "<a href='https://www.udemy.com/user/joseportilla/'><img src='../Pierian_Data_Logo.png'/></a>\n",
    "___\n",
    "<center><em>Content Copyright by Pierian Data</em></center>"
   ],
   "metadata": {}
  },
  {
   "cell_type": "markdown",
   "source": [
    "# Unit Testing\n",
    "\n",
    "Equally important as writing good code is writing good tests. Better to find bugs yourself than have them reported to you by end users!\n",
    "\n",
    "For this section we'll be working with files outside the notebook. We'll save our code to a .py file, and then save our test script to another .py file. Normally we would code these files using a text editor like Brackets or Atom, or inside an IDE like Spyder or Pycharm. But, since we're here, let's use Jupyter!\n",
    "\n",
    "Recall that with some IPython magic we can write the contents of a cell to a file using `%%writefile`.<br>\n",
    "Something we haven't seen yet; you can run terminal commands from a jupyter cell using `!`\n",
    "\n",
    "## Testing tools\n",
    "\n",
    "There are dozens of good testing libraries out there. Most are third-party packages that require an install, such as:\n",
    "\n",
    "* [pylint](https://www.pylint.org/)\n",
    "* [pyflakes](https://pypi.python.org/pypi/pyflakes/)\n",
    "* [pep8](https://pypi.python.org/pypi/pep8)\n",
    "\n",
    "These are simple tools that merely look at your code, and they'll tell you if there are style issues or simple problems like variable names being called before assignment.\n",
    "\n",
    "A far better way to test your code is to write tests that send sample data to your program, and compare what's returned to a desired outcome.<br>Two such tools are available from the standard library:\n",
    "\n",
    "* [unittest](https://docs.python.org/3/library/unittest.html)\n",
    "* [doctest](https://docs.python.org/3/library/doctest.html)\n",
    "\n",
    "Let's look at pylint first, then we'll do some heavier lifting with unittest.\n"
   ],
   "metadata": {}
  },
  {
   "cell_type": "markdown",
   "source": [
    "## `pylint`\n",
    "\n",
    "`pylint` tests for style as well as some very basic program logic."
   ],
   "metadata": {}
  },
  {
   "cell_type": "markdown",
   "source": [
    "First, if you don't have it already (and you probably do, as it's part of the Anaconda distribution), you should install `pylint`.<br>Once that's done feel free to comment out the cell, you won't need it anymore."
   ],
   "metadata": {}
  },
  {
   "cell_type": "code",
   "execution_count": 2,
   "source": [
    "! pip install pylint"
   ],
   "outputs": [
    {
     "output_type": "stream",
     "name": "stdout",
     "text": [
      "Requirement already satisfied: pylint in c:\\programdata\\anaconda3\\lib\\site-packages (2.7.4)"
     ]
    },
    {
     "output_type": "stream",
     "name": "stderr",
     "text": [
      "ERROR: Could not install packages due to an OSError: [WinError 5] Access is denied: 'c:\\\\programdata\\\\anaconda3\\\\lib\\\\site-packages\\\\astroid-2.5.dist-info\\\\COPYING'\n",
      "Consider using the `--user` option or check the permissions.\n",
      "\n"
     ]
    },
    {
     "output_type": "stream",
     "name": "stdout",
     "text": [
      "\n",
      "Requirement already satisfied: isort<6,>=4.2.5 in c:\\programdata\\anaconda3\\lib\\site-packages (from pylint) (5.8.0)\n",
      "Requirement already satisfied: mccabe<0.7,>=0.6 in c:\\programdata\\anaconda3\\lib\\site-packages (from pylint) (0.6.1)\n",
      "Requirement already satisfied: toml>=0.7.1 in c:\\programdata\\anaconda3\\lib\\site-packages (from pylint) (0.10.2)\n",
      "Collecting astroid<2.7,>=2.5.2\n",
      "  Using cached astroid-2.6.6-py3-none-any.whl (231 kB)\n",
      "Requirement already satisfied: colorama in c:\\users\\gdelcastillo\\appdata\\roaming\\python\\python38\\site-packages (from pylint) (0.4.4)\n",
      "Requirement already satisfied: lazy-object-proxy>=1.4.0 in c:\\programdata\\anaconda3\\lib\\site-packages (from astroid<2.7,>=2.5.2->pylint) (1.6.0)\n",
      "Requirement already satisfied: wrapt<1.13,>=1.11 in c:\\programdata\\anaconda3\\lib\\site-packages (from astroid<2.7,>=2.5.2->pylint) (1.12.1)\n",
      "Requirement already satisfied: setuptools>=20.0 in c:\\programdata\\anaconda3\\lib\\site-packages (from astroid<2.7,>=2.5.2->pylint) (52.0.0.post20210125)\n",
      "Installing collected packages: astroid\n",
      "  Attempting uninstall: astroid\n",
      "    Found existing installation: astroid 2.5\n",
      "    Uninstalling astroid-2.5:\n"
     ]
    }
   ],
   "metadata": {
    "collapsed": true
   }
  },
  {
   "cell_type": "markdown",
   "source": [
    "Let's save a very simple script:"
   ],
   "metadata": {}
  },
  {
   "cell_type": "code",
   "execution_count": 3,
   "source": [
    "%%writefile simple1.py\r\n",
    "a = 1\r\n",
    "b = 2\r\n",
    "print(a)\r\n",
    "print(B)"
   ],
   "outputs": [
    {
     "output_type": "stream",
     "name": "stdout",
     "text": [
      "Overwriting simple1.py\n"
     ]
    }
   ],
   "metadata": {}
  },
  {
   "cell_type": "markdown",
   "source": [
    "Now let's check it using pylint"
   ],
   "metadata": {}
  },
  {
   "cell_type": "code",
   "execution_count": 4,
   "source": [
    "! pylint simple1.py"
   ],
   "outputs": [
    {
     "output_type": "stream",
     "name": "stdout",
     "text": [
      "************* Module simple1\n",
      "simple1.py:1:0: C0114: Missing module docstring (missing-module-docstring)\n",
      "simple1.py:1:0: C0103: Constant name \"a\" doesn't conform to UPPER_CASE naming style (invalid-name)\n",
      "simple1.py:2:0: C0103: Constant name \"b\" doesn't conform to UPPER_CASE naming style (invalid-name)\n",
      "simple1.py:4:6: E0602: Undefined variable 'B' (undefined-variable)\n",
      "\n",
      "-------------------------------------\n",
      "\n",
      "Your code has been rated at -10.00/10\n",
      "\n",
      "\n",
      "\n"
     ]
    }
   ],
   "metadata": {}
  },
  {
   "cell_type": "markdown",
   "source": [
    "Pylint first lists some styling issues - it would like to see an extra newline at the end, modules and function definitions should have descriptive docstrings, and single characters are a poor choice for variable names.\n",
    "\n",
    "More importantly, however, pylint identified an error in the program - a variable called before assignment. This needs fixing.\n",
    "\n",
    "Note that pylint scored our program a negative 12.5 out of 10. Let's try to improve that!"
   ],
   "metadata": {}
  },
  {
   "cell_type": "code",
   "execution_count": 11,
   "source": [
    "%%writefile simple1.py\r\n",
    "\"\"\"\r\n",
    "A very simple script.\r\n",
    "\"\"\"\r\n",
    "\r\n",
    "def myfunc():\r\n",
    "    \"\"\"\r\n",
    "    An extremely simple function.\r\n",
    "    \"\"\"\r\n",
    "    first = 1\r\n",
    "    second = 2\r\n",
    "    print(first)\r\n",
    "    print(second)\r\n",
    "\r\n",
    "myfunc()"
   ],
   "outputs": [
    {
     "output_type": "stream",
     "name": "stdout",
     "text": [
      "Writing simple1.py\n"
     ]
    }
   ],
   "metadata": {}
  },
  {
   "cell_type": "code",
   "execution_count": 12,
   "source": [
    "! pylint simple1.py"
   ],
   "outputs": [
    {
     "output_type": "stream",
     "name": "stdout",
     "text": [
      "************* Module simple1\n",
      "simple1.py:1:0: C0304: Final newline missing (missing-final-newline)\n",
      "simple1.py:3:0: C0304: Final newline missing (missing-final-newline)\n",
      "simple1.py:5:0: C0304: Final newline missing (missing-final-newline)\n",
      "simple1.py:3:0: C0304: Final newline missing (missing-final-newline)\n",
      "simple1.py:4:0: C0304: Final newline missing (missing-final-newline)\n",
      "simple1.py:5:0: C0304: Final newline missing (missing-final-newline)\n",
      "simple1.py:6:0: C0304: Final newline missing (missing-final-newline)\n",
      "simple1.py:8:0: C0304: Final newline missing (missing-final-newline)\n",
      "simple1.py:10:0: C0304: Final newline missing (missing-final-newline)\n",
      "simple1.py:8:0: C0304: Final newline missing (missing-final-newline)\n",
      "simple1.py:9:0: C0304: Final newline missing (missing-final-newline)\n",
      "simple1.py:10:0: C0304: Final newline missing (missing-final-newline)\n",
      "simple1.py:11:0: C0304: Final newline missing (missing-final-newline)\n",
      "simple1.py:12:0: C0304: Final newline missing (missing-final-newline)\n",
      "simple1.py:13:0: C0304: Final newline missing (missing-final-newline)\n",
      "\n",
      "----------------------------------------------------------------------\n",
      "\n",
      "Your code has been rated at -15.00/10 (previous run: -15.00/10, +0.00)\n",
      "\n",
      "\n",
      "\n"
     ]
    }
   ],
   "metadata": {}
  },
  {
   "cell_type": "markdown",
   "source": [
    "Much better! Our score climbed to 8.33 out of 10. Unfortunately, the final newline has to do with how jupyter writes to a file, and there's not much we can do about that here. Still, pylint helped us troubleshoot some of our problems. But what if the problem was more complex?"
   ],
   "metadata": {}
  },
  {
   "cell_type": "code",
   "execution_count": 13,
   "source": [
    "%%writefile simple2.py\r\n",
    "\"\"\"\r\n",
    "A very simple script.\r\n",
    "\"\"\"\r\n",
    "\r\n",
    "def myfunc():\r\n",
    "    \"\"\"\r\n",
    "    An extremely simple function.\r\n",
    "    \"\"\"\r\n",
    "    first = 1\r\n",
    "    second = 2\r\n",
    "    print(first)\r\n",
    "    print('second')\r\n",
    "\r\n",
    "myfunc()"
   ],
   "outputs": [
    {
     "output_type": "stream",
     "name": "stdout",
     "text": [
      "Overwriting simple2.py\n"
     ]
    }
   ],
   "metadata": {}
  },
  {
   "cell_type": "code",
   "execution_count": 14,
   "source": [
    "! pylint simple2.py"
   ],
   "outputs": [
    {
     "output_type": "stream",
     "name": "stdout",
     "text": [
      "************* Module simple2\n",
      "simple2.py:10:4: W0612: Unused variable 'second' (unused-variable)\n",
      "\n",
      "-----------------------------------\n",
      "\n",
      "Your code has been rated at 8.33/10\n",
      "\n",
      "\n",
      "\n"
     ]
    }
   ],
   "metadata": {}
  },
  {
   "cell_type": "markdown",
   "source": [
    "pylint tells us there's an unused variable in line 10, but it doesn't know that we might get an unexpected output from line 12! For this we need a more robust set of tools. That's where `unittest` comes in."
   ],
   "metadata": {}
  },
  {
   "cell_type": "markdown",
   "source": [
    "## `unittest`\n",
    "`unittest` lets you write your own test programs. The goal is to send a specific set of data to your program, and analyze the returned results against an expected result. \n",
    "\n",
    "Let's generate a simple script that capitalizes words in a given string. We'll call it **cap.py**."
   ],
   "metadata": {}
  },
  {
   "cell_type": "code",
   "execution_count": 23,
   "source": [
    "%%writefile cap.py\r\n",
    "def cap_text(text):\r\n",
    "    '''\r\n",
    "    - This is   my function comments - xxx\r\n",
    "    second lind\r\n",
    "    '''\r\n",
    "    return text.capitalize()"
   ],
   "outputs": [
    {
     "output_type": "stream",
     "name": "stdout",
     "text": [
      "Overwriting cap.py\n"
     ]
    }
   ],
   "metadata": {}
  },
  {
   "cell_type": "markdown",
   "source": [
    "Now we'll write a test script. We can call it whatever we want, but **test_cap.py** seems an obvious choice.\n",
    "\n",
    "When writing test functions, it's best to go from simple to complex, as each function will be run in order. Here we'll test simple, one-word strings, followed by a test of multiple word strings."
   ],
   "metadata": {}
  },
  {
   "cell_type": "code",
   "execution_count": 64,
   "source": [
    "%%writefile test_cap.py\r\n",
    "import unittest\r\n",
    "import cap\r\n",
    "\r\n",
    "class TestCap(unittest.TestCase):\r\n",
    "    \r\n",
    "    def test_one_word(self):\r\n",
    "        text = 'python'\r\n",
    "        result = cap.cap_text(text)\r\n",
    "        self.assertEqual(result, 'Python')\r\n",
    "        \r\n",
    "    def test_multiple_words(self):\r\n",
    "        text = 'monty python'\r\n",
    "        result = cap.cap_text(text)\r\n",
    "        self.assertEqual(result, 'Monty Python')\r\n",
    "        \r\n",
    "if __name__ == '__main__':\r\n",
    "    unittest.main()"
   ],
   "outputs": [
    {
     "output_type": "stream",
     "name": "stdout",
     "text": [
      "Overwriting test_cap.py\n"
     ]
    }
   ],
   "metadata": {}
  },
  {
   "cell_type": "code",
   "execution_count": 65,
   "source": [
    "! python test_cap.py"
   ],
   "outputs": [
    {
     "output_type": "stream",
     "name": "stderr",
     "text": [
      "..\n",
      "----------------------------------------------------------------------\n",
      "Ran 2 tests in 0.000s\n",
      "\n",
      "OK\n"
     ]
    }
   ],
   "metadata": {}
  },
  {
   "cell_type": "markdown",
   "source": [
    "What happened? It turns out that the `.capitalize()` method only capitalizes the first letter of the first word in a string. Doing a little research on string methods, we find that `.title()` might give us what we want."
   ],
   "metadata": {}
  },
  {
   "cell_type": "code",
   "execution_count": 66,
   "source": [
    "%%writefile cap.py\r\n",
    "def cap_text(text):\r\n",
    "    return text.title()  # replace .capitalize() with .title()"
   ],
   "outputs": [
    {
     "output_type": "stream",
     "name": "stdout",
     "text": [
      "Overwriting cap.py\n"
     ]
    }
   ],
   "metadata": {}
  },
  {
   "cell_type": "code",
   "execution_count": 67,
   "source": [
    "! python test_cap.py"
   ],
   "outputs": [
    {
     "output_type": "stream",
     "name": "stderr",
     "text": [
      "..\n",
      "----------------------------------------------------------------------\n",
      "Ran 2 tests in 0.000s\n",
      "\n",
      "OK\n"
     ]
    }
   ],
   "metadata": {}
  },
  {
   "cell_type": "markdown",
   "source": [
    "Hey, it passed! But have we tested all cases? Let's add another test to **test_cap.py** to see if it handles words with apostrophes, like *don't*.\n",
    "\n",
    "In a text editor this would be easy, but in Jupyter we have to start from scratch."
   ],
   "metadata": {}
  },
  {
   "cell_type": "code",
   "execution_count": 68,
   "source": [
    "%%writefile test_cap.py\r\n",
    "import unittest\r\n",
    "import cap\r\n",
    "\r\n",
    "class TestCap(unittest.TestCase):\r\n",
    "    \r\n",
    "    def test_one_word(self):\r\n",
    "        text = 'python'\r\n",
    "        result = cap.cap_text(text)\r\n",
    "        self.assertEqual(result, 'Python')\r\n",
    "        \r\n",
    "    def test_multiple_words(self):\r\n",
    "        text = 'monty python'\r\n",
    "        result = cap.cap_text(text)\r\n",
    "        self.assertEqual(result, 'Monty Python')\r\n",
    "        \r\n",
    "    def test_with_apostrophes(self):\r\n",
    "        text = \"monty python's flying circus\"\r\n",
    "        result = cap.cap_text(text)\r\n",
    "        self.assertEqual(result, \"Monty Python's Flying Circus\")\r\n",
    "        \r\n",
    "if __name__ == '__main__':\r\n",
    "    unittest.main()"
   ],
   "outputs": [
    {
     "output_type": "stream",
     "name": "stdout",
     "text": [
      "Overwriting test_cap.py\n"
     ]
    }
   ],
   "metadata": {}
  },
  {
   "cell_type": "code",
   "execution_count": 69,
   "source": [
    "! python test_cap.py"
   ],
   "outputs": [
    {
     "output_type": "stream",
     "name": "stderr",
     "text": [
      "..F\n",
      "======================================================================\n",
      "FAIL: test_with_apostrophes (__main__.TestCap)\n",
      "----------------------------------------------------------------------\n",
      "Traceback (most recent call last):\n",
      "  File \"test_cap.py\", line 37, in test_with_apostrophes\n",
      "    self.assertEqual(result, \"Monty Python's Flying Circus\")\n",
      "AssertionError: \"Monty Python'S Flying Circus\" != \"Monty Python's Flying Circus\"\n",
      "- Monty Python'S Flying Circus\n",
      "?              ^\n",
      "+ Monty Python's Flying Circus\n",
      "?              ^\n",
      "\n",
      "\n",
      "----------------------------------------------------------------------\n",
      "Ran 3 tests in 0.002s\n",
      "\n",
      "FAILED (failures=1)\n"
     ]
    }
   ],
   "metadata": {}
  },
  {
   "cell_type": "markdown",
   "source": [
    "Now we have to find a solution that handles apostrophes! There is one (look up `capwords` from the `string` module) but we'll leave that as an exercise for the reader."
   ],
   "metadata": {}
  },
  {
   "cell_type": "code",
   "execution_count": null,
   "source": [
    "%%writefile cap.py\r\n",
    "import string\r\n",
    "def cap_text(text):\r\n",
    "    return string.capwords(text)"
   ],
   "outputs": [],
   "metadata": {}
  },
  {
   "cell_type": "markdown",
   "source": [
    "Great! Now you should have a basic understanding of unit testing!"
   ],
   "metadata": {}
  }
 ],
 "metadata": {
  "kernelspec": {
   "name": "python3",
   "display_name": "Python 3.8.8 64-bit ('base': conda)"
  },
  "language_info": {
   "codemirror_mode": {
    "name": "ipython",
    "version": 3
   },
   "file_extension": ".py",
   "mimetype": "text/x-python",
   "name": "python",
   "nbconvert_exporter": "python",
   "pygments_lexer": "ipython3",
   "version": "3.8.8"
  },
  "interpreter": {
   "hash": "b3ba2566441a7c06988d0923437866b63cedc61552a5af99d1f4fb67d367b25f"
  }
 },
 "nbformat": 4,
 "nbformat_minor": 2
}