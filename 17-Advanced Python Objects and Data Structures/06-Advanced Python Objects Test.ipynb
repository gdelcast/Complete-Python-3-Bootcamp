{
 "cells": [
  {
   "cell_type": "markdown",
   "source": [
    "# Advanced Python Objects Test"
   ],
   "metadata": {}
  },
  {
   "cell_type": "markdown",
   "source": [
    "## Advanced Numbers\n",
    "\n",
    "**Problem 1: Convert 1024 to binary and hexadecimal representation**"
   ],
   "metadata": {}
  },
  {
   "cell_type": "code",
   "execution_count": 1,
   "source": [
    "hex(1024)\r\n",
    "bin(1024)"
   ],
   "outputs": [
    {
     "output_type": "execute_result",
     "data": {
      "text/plain": [
       "'0b10000000000'"
      ]
     },
     "metadata": {},
     "execution_count": 1
    }
   ],
   "metadata": {}
  },
  {
   "cell_type": "markdown",
   "source": [
    "**Problem 2: Round 5.23222 to two decimal places**"
   ],
   "metadata": {}
  },
  {
   "cell_type": "code",
   "execution_count": 2,
   "source": [
    "round(0.533387,2)"
   ],
   "outputs": [
    {
     "output_type": "execute_result",
     "data": {
      "text/plain": [
       "0.53"
      ]
     },
     "metadata": {},
     "execution_count": 2
    }
   ],
   "metadata": {}
  },
  {
   "cell_type": "markdown",
   "source": [
    "## Advanced Strings\n",
    "**Problem 3: Check if every letter in the string s is lower case**"
   ],
   "metadata": {}
  },
  {
   "cell_type": "code",
   "execution_count": 3,
   "source": [
    "s = 'hello how are you Mary, are you feeling okay?'\r\n",
    "for x in range(len(s)):\r\n",
    "    print(f'{s[x]} is lowercase: {s[x].islower()}')\r\n"
   ],
   "outputs": [
    {
     "output_type": "stream",
     "name": "stdout",
     "text": [
      "h is lowercase: True\n",
      "e is lowercase: True\n",
      "l is lowercase: True\n",
      "l is lowercase: True\n",
      "o is lowercase: True\n",
      "  is lowercase: False\n",
      "h is lowercase: True\n",
      "o is lowercase: True\n",
      "w is lowercase: True\n",
      "  is lowercase: False\n",
      "a is lowercase: True\n",
      "r is lowercase: True\n",
      "e is lowercase: True\n",
      "  is lowercase: False\n",
      "y is lowercase: True\n",
      "o is lowercase: True\n",
      "u is lowercase: True\n",
      "  is lowercase: False\n",
      "M is lowercase: False\n",
      "a is lowercase: True\n",
      "r is lowercase: True\n",
      "y is lowercase: True\n",
      ", is lowercase: False\n",
      "  is lowercase: False\n",
      "a is lowercase: True\n",
      "r is lowercase: True\n",
      "e is lowercase: True\n",
      "  is lowercase: False\n",
      "y is lowercase: True\n",
      "o is lowercase: True\n",
      "u is lowercase: True\n",
      "  is lowercase: False\n",
      "f is lowercase: True\n",
      "e is lowercase: True\n",
      "e is lowercase: True\n",
      "l is lowercase: True\n",
      "i is lowercase: True\n",
      "n is lowercase: True\n",
      "g is lowercase: True\n",
      "  is lowercase: False\n",
      "o is lowercase: True\n",
      "k is lowercase: True\n",
      "a is lowercase: True\n",
      "y is lowercase: True\n",
      "? is lowercase: False\n"
     ]
    }
   ],
   "metadata": {}
  },
  {
   "cell_type": "markdown",
   "source": [
    "**Problem 4: How many times does the letter 'w' show up in the string below?**"
   ],
   "metadata": {}
  },
  {
   "cell_type": "code",
   "execution_count": 4,
   "source": [
    "s = 'twywywtwywbwhsjhwuwshshwuwwwjdjdid'\r\n",
    "s.count('w')"
   ],
   "outputs": [
    {
     "output_type": "execute_result",
     "data": {
      "text/plain": [
       "12"
      ]
     },
     "metadata": {},
     "execution_count": 4
    }
   ],
   "metadata": {}
  },
  {
   "cell_type": "markdown",
   "source": [
    "## Advanced Sets\n",
    "**Problem 5: Find the elements in set1 that are not in set2:**"
   ],
   "metadata": {}
  },
  {
   "cell_type": "code",
   "execution_count": 5,
   "source": [
    "set1 = {2,3,1,5,6,8}\r\n",
    "set2 = {3,1,7,5,6,8}\r\n",
    "set1.difference(set2)\r\n"
   ],
   "outputs": [
    {
     "output_type": "execute_result",
     "data": {
      "text/plain": [
       "{2}"
      ]
     },
     "metadata": {},
     "execution_count": 5
    }
   ],
   "metadata": {}
  },
  {
   "cell_type": "markdown",
   "source": [
    "**Problem 6: Find all elements that are in either set:**"
   ],
   "metadata": {}
  },
  {
   "cell_type": "code",
   "execution_count": 6,
   "source": [
    "set1.union(set2)"
   ],
   "outputs": [
    {
     "output_type": "execute_result",
     "data": {
      "text/plain": [
       "{1, 2, 3, 5, 6, 7, 8}"
      ]
     },
     "metadata": {},
     "execution_count": 6
    }
   ],
   "metadata": {}
  },
  {
   "cell_type": "markdown",
   "source": [
    "## Advanced Dictionaries\n",
    "\n",
    "**Problem 7: Create this dictionary:\n",
    "{0: 0, 1: 1, 2: 8, 3: 27, 4: 64}\n",
    " using a dictionary comprehension.**"
   ],
   "metadata": {}
  },
  {
   "cell_type": "code",
   "execution_count": 7,
   "source": [
    "{x:x**3 for x in range(5)}"
   ],
   "outputs": [
    {
     "output_type": "execute_result",
     "data": {
      "text/plain": [
       "{0: 0, 1: 1, 2: 8, 3: 27, 4: 64}"
      ]
     },
     "metadata": {},
     "execution_count": 7
    }
   ],
   "metadata": {}
  },
  {
   "cell_type": "markdown",
   "source": [
    "## Advanced Lists\n",
    "\n",
    "**Problem 8: Reverse the list below:**"
   ],
   "metadata": {}
  },
  {
   "cell_type": "code",
   "execution_count": 8,
   "source": [
    "list1 = [1,2,3,4]\r\n",
    "list1[::-1]"
   ],
   "outputs": [
    {
     "output_type": "execute_result",
     "data": {
      "text/plain": [
       "[4, 3, 2, 1]"
      ]
     },
     "metadata": {},
     "execution_count": 8
    }
   ],
   "metadata": {}
  },
  {
   "cell_type": "markdown",
   "source": [
    "**Problem 9: Sort the list below:**"
   ],
   "metadata": {}
  },
  {
   "cell_type": "code",
   "execution_count": 9,
   "source": [
    "list2 = [3,4,2,5,1]\r\n",
    "list2.sort()\r\n",
    "list2"
   ],
   "outputs": [
    {
     "output_type": "execute_result",
     "data": {
      "text/plain": [
       "[1, 2, 3, 4, 5]"
      ]
     },
     "metadata": {},
     "execution_count": 9
    }
   ],
   "metadata": {}
  },
  {
   "cell_type": "markdown",
   "source": [
    "# Great Job!"
   ],
   "metadata": {}
  }
 ],
 "metadata": {
  "kernelspec": {
   "name": "python3",
   "display_name": "Python 3.8.8 64-bit"
  },
  "language_info": {
   "codemirror_mode": {
    "name": "ipython",
    "version": 3
   },
   "file_extension": ".py",
   "mimetype": "text/x-python",
   "name": "python",
   "nbconvert_exporter": "python",
   "pygments_lexer": "ipython3",
   "version": "3.8.8"
  },
  "interpreter": {
   "hash": "b3ba2566441a7c06988d0923437866b63cedc61552a5af99d1f4fb67d367b25f"
  }
 },
 "nbformat": 4,
 "nbformat_minor": 1
}