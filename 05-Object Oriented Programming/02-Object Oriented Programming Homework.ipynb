{
 "cells": [
  {
   "cell_type": "markdown",
   "source": [
    "___\n",
    "\n",
    "<a href='https://www.udemy.com/user/joseportilla/'><img src='../Pierian_Data_Logo.png'/></a>\n",
    "___\n",
    "<center><em>Content Copyright by Pierian Data</em></center>"
   ],
   "metadata": {}
  },
  {
   "cell_type": "markdown",
   "source": [
    "# Object Oriented Programming\n",
    "## Homework Assignment\n",
    "\n",
    "#### Problem 1\n",
    "Fill in the Line class methods to accept coordinates as a pair of tuples and return the slope and distance of the line."
   ],
   "metadata": {}
  },
  {
   "cell_type": "code",
   "execution_count": 2,
   "source": [
    "class Line:\r\n",
    "    \r\n",
    "    def __init__(self,coor1,coor2):\r\n",
    "        self.x1 = coor1[0]\r\n",
    "        self.y1 = coor1[1]\r\n",
    "        self.x2 = coor2[0]\r\n",
    "        self.y2 = coor2[1]\r\n",
    "    \r\n",
    "    def distance(self):\r\n",
    "        d = ((self.x2-self.x1)**2+(self.y2-self.y1)**2)**0.5\r\n",
    "        return d\r\n",
    "    \r\n",
    "    def slope(self):\r\n",
    "        m = (self.y2-self.y1)/(self.x2-self.x1)\r\n",
    "        return m"
   ],
   "outputs": [],
   "metadata": {}
  },
  {
   "cell_type": "code",
   "execution_count": 3,
   "source": [
    "# EXAMPLE OUTPUT\r\n",
    "\r\n",
    "coordinate1 = (3,2)\r\n",
    "coordinate2 = (8,10)\r\n",
    "\r\n",
    "li = Line(coordinate1,coordinate2)"
   ],
   "outputs": [],
   "metadata": {}
  },
  {
   "cell_type": "code",
   "execution_count": 4,
   "source": [
    "li.distance()"
   ],
   "outputs": [
    {
     "output_type": "execute_result",
     "data": {
      "text/plain": [
       "9.433981132056603"
      ]
     },
     "metadata": {},
     "execution_count": 4
    }
   ],
   "metadata": {}
  },
  {
   "cell_type": "code",
   "execution_count": 5,
   "source": [
    "li.slope()"
   ],
   "outputs": [
    {
     "output_type": "execute_result",
     "data": {
      "text/plain": [
       "1.6"
      ]
     },
     "metadata": {},
     "execution_count": 5
    }
   ],
   "metadata": {}
  },
  {
   "cell_type": "markdown",
   "source": [
    "________\n",
    "#### Problem 2"
   ],
   "metadata": {}
  },
  {
   "cell_type": "markdown",
   "source": [
    "Fill in the class "
   ],
   "metadata": {}
  },
  {
   "cell_type": "code",
   "execution_count": 6,
   "source": [
    "import math\r\n",
    "class Cylinder:\r\n",
    "    \r\n",
    "    def __init__(self,height=1,radius=1):\r\n",
    "        self.height=height\r\n",
    "        self.radius=radius\r\n",
    "        \r\n",
    "    def volume(self):\r\n",
    "        return  math.pi*self.radius**2*self.height\r\n",
    "    \r\n",
    "    def surface_area(self):\r\n",
    "        return (math.pi)*2*(self.radius)*(self.height) + (math.pi)*2.*(self.radius)**2"
   ],
   "outputs": [],
   "metadata": {}
  },
  {
   "cell_type": "code",
   "execution_count": 7,
   "source": [
    "# EXAMPLE OUTPUT\r\n",
    "c = Cylinder(2,3)"
   ],
   "outputs": [],
   "metadata": {}
  },
  {
   "cell_type": "code",
   "execution_count": 8,
   "source": [
    "c.volume()"
   ],
   "outputs": [
    {
     "output_type": "execute_result",
     "data": {
      "text/plain": [
       "56.548667764616276"
      ]
     },
     "metadata": {},
     "execution_count": 8
    }
   ],
   "metadata": {}
  },
  {
   "cell_type": "code",
   "execution_count": 11,
   "source": [
    "c.surface_area()"
   ],
   "outputs": [
    {
     "output_type": "execute_result",
     "data": {
      "text/plain": [
       "94.24777960769379"
      ]
     },
     "metadata": {},
     "execution_count": 11
    }
   ],
   "metadata": {}
  }
 ],
 "metadata": {
  "kernelspec": {
   "name": "python3",
   "display_name": "Python 3.8.3 64-bit"
  },
  "language_info": {
   "codemirror_mode": {
    "name": "ipython",
    "version": 3
   },
   "file_extension": ".py",
   "mimetype": "text/x-python",
   "name": "python",
   "nbconvert_exporter": "python",
   "pygments_lexer": "ipython3",
   "version": "3.8.3"
  },
  "interpreter": {
   "hash": "16e3f6170213bc8b93f4af10cda404198c09c84502cee13f546aa00fc3fa8f5f"
  }
 },
 "nbformat": 4,
 "nbformat_minor": 1
}